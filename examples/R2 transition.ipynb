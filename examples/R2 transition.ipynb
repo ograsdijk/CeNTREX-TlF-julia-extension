{
 "cells": [
  {
   "cell_type": "code",
   "execution_count": 1,
   "metadata": {},
   "outputs": [],
   "source": [
    "import numpy as np\n",
    "from scipy import constants as cst\n",
    "\n",
    "import matplotlib.pyplot as plt\n",
    "\n",
    "from centrex_tlf import states, hamiltonian, transitions, couplings, lindblad\n",
    "from centrex_tlf_julia_extension import lindblad_julia"
   ]
  },
  {
   "cell_type": "code",
   "execution_count": 2,
   "metadata": {},
   "outputs": [],
   "source": [
    "plt.rcParams.update({'font.size': 15})"
   ]
  },
  {
   "cell_type": "code",
   "execution_count": 3,
   "metadata": {},
   "outputs": [],
   "source": [
    "def doppler_shift(velocity, frequency):\n",
    "    \"\"\"calculate the doppler shifted frequency\n",
    "    Args:\n",
    "        velocity (float): velocity [m/s]\n",
    "        frequency (float): frequency [Hz]\n",
    "    Returns:\n",
    "        float: doppler shifted frequency in Hz\n",
    "    \"\"\"\n",
    "    return frequency * (1 + velocity / cst.c)\n",
    "\n",
    "\n",
    "def velocity_to_detuning(velocity, frequency=1.103e15, Γ=2*np.pi*1.56e6):\n",
    "    \"\"\"convert velocity to detuning in units of Γ\n",
    "    Args:\n",
    "        velocity (float): velocity [m/s]\n",
    "        frequency (float): frequency [Hz]\n",
    "        Γ (float): Γ [2π⋅Hz]\n",
    "    Returns:\n",
    "        float: detuning in units of Γ\n",
    "    \"\"\"\n",
    "    return (doppler_shift(velocity, frequency) - frequency) * 2 * np.pi / Γ"
   ]
  },
  {
   "cell_type": "code",
   "execution_count": 4,
   "metadata": {},
   "outputs": [],
   "source": [
    "trans = [transitions.OpticalTransition(transitions.OpticalTransitionType.R, J_ground=2, F1=7/2, F=4)]\n",
    "\n",
    "polarizations = [\n",
    "    [couplings.polarization_σp]\n",
    "]\n",
    "\n",
    "transition_selectors = couplings.generate_transition_selectors(\n",
    "    trans, polarizations, \n",
    "    ground_mains = [\n",
    "        1*states.CoupledBasisState(\n",
    "            J=2, F=3, F1=5/2, mF=0, I1=1/2, I2=1/2, Ω=0, P=+1, \n",
    "            electronic_state=states.ElectronicState.X\n",
    "            )\n",
    "        ],\n",
    "    excited_mains=[\n",
    "        1*states.CoupledBasisState(\n",
    "            J=3, F=4, F1=7/2, mF=1, I1=1/2, I2=1/2, Ω=1, P=-1, \n",
    "            electronic_state=states.ElectronicState.B\n",
    "        )\n",
    "    ]\n",
    ")"
   ]
  },
  {
   "cell_type": "code",
   "execution_count": 5,
   "metadata": {},
   "outputs": [],
   "source": [
    "v_to_Γ = velocity_to_detuning(1)*hamiltonian.Γ\n",
    "\n",
    "\n",
    "odepars = lindblad_julia.odeParameters(\n",
    "    Ω0 = \"Ωl0 * phase_modulation(t, β, ωphase)\",\n",
    "    Ωl0     = 1*hamiltonian.Γ,    # Rabi frequency of the laser [rad/s]\n",
    "    δ0      = f\"vx*{v_to_Γ}\", # detuning of the laser [rad/s]\n",
    "    \n",
    "    # laser phase modulation\n",
    "    ωphase = hamiltonian.Γ,       # laser phase modulation frequency [rad/s]\n",
    "    β      = 3.8,             # laser phase modulation depth [rad]\n",
    "    \n",
    "    Pσp0 = 1,\n",
    "\n",
    "    # molecules\n",
    "    z0 = 0,                   # molecule start z position [m]\n",
    "    vz = 184,                 # longitudinal molecular velocity [m/s]\n",
    "    vx = 0,\n",
    ")\n"
   ]
  },
  {
   "cell_type": "code",
   "execution_count": 6,
   "metadata": {},
   "outputs": [
    {
     "name": "stderr",
     "output_type": "stream",
     "text": [
      "INFO:centrex_tlf.lindblad.utils_setup:generate_OBE_system: 1/5 -> Generating the reduced Hamiltonian\n",
      "INFO:centrex_tlf.lindblad.utils_setup:generate_OBE_system: 2/5 -> Generating the couplings corresponding to the transitions\n",
      "INFO:centrex_tlf.lindblad.utils_setup:generate_OBE_system: 3/5 -> Generating the symbolic Hamiltonian\n",
      "INFO:centrex_tlf.lindblad.utils_setup:generate_OBE_system: 4/5 -> Generating the collapse matrices\n"
     ]
    },
    {
     "name": "stdout",
     "output_type": "stream",
     "text": [
      "Warning: Branching ratio sum > 1, difference = 2.22e-16\n",
      "Warning: Branching ratio sum > 1, difference = 2.22e-16\n"
     ]
    },
    {
     "name": "stderr",
     "output_type": "stream",
     "text": [
      "INFO:centrex_tlf.lindblad.utils_setup:generate_OBE_system: 5/5 -> Transforming the Hamiltonian and collapse matrices into a symbolic system of equations\n"
     ]
    },
    {
     "name": "stdout",
     "output_type": "stream",
     "text": [
      "CPU times: total: 2min 39s\n",
      "Wall time: 4min 7s\n"
     ]
    }
   ],
   "source": [
    "%%time\n",
    "obe_system = lindblad.setup_OBE_system_transitions(\n",
    "    trans, transition_selectors, \n",
    "    verbose=True,\n",
    "    qn_compact= True,\n",
    "    decay_channels = None\n",
    ")\n",
    "obe_system = lindblad_julia.setup_OBE_system_julia(\n",
    "    obe_system, transition_selectors, odepars\n",
    ")"
   ]
  },
  {
   "cell_type": "code",
   "execution_count": null,
   "metadata": {},
   "outputs": [
    {
     "data": {
      "text/html": [
       "<div>\n",
       "<style scoped>\n",
       "    .dataframe tbody tr th:only-of-type {\n",
       "        vertical-align: middle;\n",
       "    }\n",
       "\n",
       "    .dataframe tbody tr th {\n",
       "        vertical-align: top;\n",
       "    }\n",
       "\n",
       "    .dataframe thead th {\n",
       "        text-align: right;\n",
       "    }\n",
       "</style>\n",
       "<table border=\"1\" class=\"dataframe\">\n",
       "  <thead>\n",
       "    <tr style=\"text-align: right;\">\n",
       "      <th></th>\n",
       "      <th>|B, J = 3, F₁ = 7/2, F = 4&gt;</th>\n",
       "    </tr>\n",
       "    <tr>\n",
       "      <th>states</th>\n",
       "      <th></th>\n",
       "    </tr>\n",
       "  </thead>\n",
       "  <tbody>\n",
       "    <tr>\n",
       "      <th>|X, J = 2&gt;</th>\n",
       "      <td>0.530151</td>\n",
       "    </tr>\n",
       "    <tr>\n",
       "      <th>|X, J = 4&gt;</th>\n",
       "      <td>0.469849</td>\n",
       "    </tr>\n",
       "  </tbody>\n",
       "</table>\n",
       "</div>"
      ],
      "text/plain": [
       "            |B, J = 3, F₁ = 7/2, F = 4>\n",
       "states                                 \n",
       "|X, J = 2>                     0.530151\n",
       "|X, J = 4>                     0.469849"
      ]
     },
     "execution_count": 10,
     "metadata": {},
     "output_type": "execute_result"
    }
   ],
   "source": [
    "couplings.generate_br_dataframe(obe_system.ground, obe_system.excited, group_ground='J')"
   ]
  },
  {
   "cell_type": "code",
   "execution_count": null,
   "metadata": {},
   "outputs": [
    {
     "data": {
      "text/latex": [
       "$\\displaystyle \\left[\\begin{array}{cccccccccccccccccccccccccccccc}-251619072753.391 & 0 & 0 & 0 & 0 & 0 & 0 & 0 & 0 & 0 & 0 & 0 & 0 & 0 & 0 & 0 & 0 & 0 & 0 & 0 & 0 & 0 & 0 & 0 & 0 & 0 & 0 & 0 & 0 & 0\\\\0 & -251619072753.291 & 0 & 0 & 0 & 0 & 0 & 0 & 0 & 0 & 0 & 0 & 0 & 0 & 0 & 0 & 0 & 0 & 0 & 0 & 0 & 0 & 0 & 0 & 0 & 0 & 0 & 0 & 0 & 0\\\\0 & 0 & -251619072753.191 & 0 & 0 & 0 & 0 & 0 & 0 & 0 & 0 & 0 & 0 & 0 & 0 & 0 & 0 & 0 & 0 & 0 & 0 & 0 & 0 & 0 & 0 & 0 & 0 & 0 & 0 & 0\\\\0 & 0 & 0 & -251618793033.017 & 0 & 0 & 0 & 0 & 0 & 0 & 0 & 0 & 0 & 0 & 0 & 0 & 0 & 0 & 0 & 0 & 0 & 0 & 0 & 0 & 0 & 0 & 0 & 0 & 0 & 0\\\\0 & 0 & 0 & 0 & -251618793033.059 & 0 & 0 & 0 & 0 & 0 & 0 & 0 & 0 & 0 & 0 & 0 & 0 & 0 & 0 & 0 & 0 & 0 & 0 & 0 & 0 & 0 & 0 & 0 & 0 & 0\\\\0 & 0 & 0 & 0 & 0 & -251618793033.101 & 0 & 0 & 0 & 0 & 0 & 0 & 0 & 0 & 0 & 0 & 0 & 0 & 0 & 0 & 0 & 0 & 0 & 0 & 0 & 0 & 0 & 0 & 0 & 0\\\\0 & 0 & 0 & 0 & 0 & 0 & -251618793033.143 & 0 & 0 & 0 & 0 & 0 & 0 & 0 & 0 & 0 & 0 & 0 & 0 & 0 & 0 & 0 & 0 & 0 & 0 & 0 & 0 & 0 & 0 & 0\\\\0 & 0 & 0 & 0 & 0 & 0 & 0 & -251618793033.185 & 0 & 0 & 0 & 0 & 0 & 0 & 0 & 0 & 0 & 0 & 0 & 0 & 0 & 0 & 0 & 0 & 0 & 0 & 0 & 0 & 0 & 0\\\\0 & 0 & 0 & 0 & 0 & 0 & 0 & 0 & -251617041203.777 & 0 & 0 & 0 & 0 & 0 & 0 & 0 & 0 & 0 & 0 & 0 & 0 & 0 & 0 & 0 & 0 & 0 & 0 & 0 & 0 & 0\\\\0 & 0 & 0 & 0 & 0 & 0 & 0 & 0 & 0 & -251617041203.771 & 0 & 0 & 0 & 0 & 0 & 0 & 0 & 0 & 0 & 0 & 0 & 0 & 0 & 0 & 0 & 0 & 0 & 0 & 0 & 0\\\\0 & 0 & 0 & 0 & 0 & 0 & 0 & 0 & 0 & 0 & -251617041203.765 & 0 & 0 & 0 & 0 & 0 & 0 & 0 & 0 & 0 & 0 & 0 & 0 & 0 & 0 & 0 & 0 & 0 & 0 & 0\\\\0 & 0 & 0 & 0 & 0 & 0 & 0 & 0 & 0 & 0 & 0 & -251617041203.759 & 0 & 0 & 0 & 0 & 0 & 0 & 0 & 0 & 0 & 0 & 0 & 0 & 0 & 0 & 0 & 0 & 0 & 0\\\\0 & 0 & 0 & 0 & 0 & 0 & 0 & 0 & 0 & 0 & 0 & 0 & -251617041203.754 & 0 & 0 & 0 & 0 & 0 & 0 & 0 & 0 & 0 & 0 & 0 & 0 & 0 & 0 & 0 & 0 & 0\\\\0 & 0 & 0 & 0 & 0 & 0 & 0 & 0 & 0 & 0 & 0 & 0 & 0 & 1.0 δ_{0} + 0.20611572265625 & 0 & 0 & 0 & 0 & 0 & 0 & 0 & 0 & 0 & 0.158113859455661 Pσp_{0} Ω_{0} & 0 & 0 & 0 & 0 & 0 & 0\\\\0 & 0 & 0 & 0 & 0 & 0 & 0 & 0 & 0 & 0 & 0 & 0 & 0 & 0 & 1.0 δ_{0} + 0.1373291015625 & 0 & 0 & 0 & 0 & 0 & 0 & 0 & 0 & 0 & 0.273861376993014 Pσp_{0} Ω_{0} & 0 & 0 & 0 & 0 & 0\\\\0 & 0 & 0 & 0 & 0 & 0 & 0 & 0 & 0 & 0 & 0 & 0 & 0 & 0 & 0 & 1.0 δ_{0} + 0.0684814453125 & 0 & 0 & 0 & 0 & 0 & 0 & 0 & 0 & 0 & 0.387298533780276 Pσp_{0} Ω_{0} & 0 & 0 & 0 & 0\\\\0 & 0 & 0 & 0 & 0 & 0 & 0 & 0 & 0 & 0 & 0 & 0 & 0 & 0 & 0 & 0 & 1.0 δ_{0} & 0 & 0 & 0 & 0 & 0 & 0 & 0 & 0 & 0 & 0.5 Pσp_{0} Ω_{0} & 0 & 0 & 0\\\\0 & 0 & 0 & 0 & 0 & 0 & 0 & 0 & 0 & 0 & 0 & 0 & 0 & 0 & 0 & 0 & 0 & 1.0 δ_{0} - 0.0684814453125 & 0 & 0 & 0 & 0 & 0 & 0 & 0 & 0 & 0 & 0.612372469074387 Pσp_{0} Ω_{0} & 0 & 0\\\\0 & 0 & 0 & 0 & 0 & 0 & 0 & 0 & 0 & 0 & 0 & 0 & 0 & 0 & 0 & 0 & 0 & 0 & 1.0 δ_{0} - 0.137451171875 & 0 & 0 & 0 & 0 & 0 & 0 & 0 & 0 & 0 & 0.724569199028533 Pσp_{0} Ω_{0} & 0\\\\0 & 0 & 0 & 0 & 0 & 0 & 0 & 0 & 0 & 0 & 0 & 0 & 0 & 0 & 0 & 0 & 0 & 0 & 0 & 1.0 δ_{0} - 0.205810546875 & 0 & 0 & 0 & 0 & 0 & 0 & 0 & 0 & 0 & 0.83666007442799 Pσp_{0} Ω_{0}\\\\0 & 0 & 0 & 0 & 0 & 0 & 0 & 0 & 0 & 0 & 0 & 0 & 0 & 0 & 0 & 0 & 0 & 0 & 0 & 0 & 837841504696.504 & 0 & 0 & 0 & 0 & 0 & 0 & 0 & 0 & 0\\\\0 & 0 & 0 & 0 & 0 & 0 & 0 & 0 & 0 & 0 & 0 & 0 & 0 & 0 & 0 & 0 & 0 & 0 & 0 & 0 & 0 & 20.7574462890625 & 0 & 0 & 0 & 0 & 0 & 0 & 0 & 0\\\\0 & 0 & 0 & 0 & 0 & 0 & 0 & 0 & 0 & 0 & 0 & 0 & 0 & 0 & 0 & 0 & 0 & 0 & 0 & 0 & 0 & 0 & 16.6053466796875 & 0 & 0 & 0 & 0 & 0 & 0 & 0\\\\0 & 0 & 0 & 0 & 0 & 0 & 0 & 0 & 0 & 0 & 0 & 0 & 0 & 0.158113859455661 Pσp_{0} Ω0ᶜ & 0 & 0 & 0 & 0 & 0 & 0 & 0 & 0 & 0 & 12.4539184570313 & 0 & 0 & 0 & 0 & 0 & 0\\\\0 & 0 & 0 & 0 & 0 & 0 & 0 & 0 & 0 & 0 & 0 & 0 & 0 & 0 & 0.273861376993014 Pσp_{0} Ω0ᶜ & 0 & 0 & 0 & 0 & 0 & 0 & 0 & 0 & 0 & 8.3033447265625 & 0 & 0 & 0 & 0 & 0\\\\0 & 0 & 0 & 0 & 0 & 0 & 0 & 0 & 0 & 0 & 0 & 0 & 0 & 0 & 0 & 0.387298533780276 Pσp_{0} Ω0ᶜ & 0 & 0 & 0 & 0 & 0 & 0 & 0 & 0 & 0 & 4.1524658203125 & 0 & 0 & 0 & 0\\\\0 & 0 & 0 & 0 & 0 & 0 & 0 & 0 & 0 & 0 & 0 & 0 & 0 & 0 & 0 & 0 & 0.5 Pσp_{0} Ω0ᶜ & 0 & 0 & 0 & 0 & 0 & 0 & 0 & 0 & 0 & 0 & 0 & 0 & 0\\\\0 & 0 & 0 & 0 & 0 & 0 & 0 & 0 & 0 & 0 & 0 & 0 & 0 & 0 & 0 & 0 & 0 & 0.612372469074387 Pσp_{0} Ω0ᶜ & 0 & 0 & 0 & 0 & 0 & 0 & 0 & 0 & 0 & -4.15057373046875 & 0 & 0\\\\0 & 0 & 0 & 0 & 0 & 0 & 0 & 0 & 0 & 0 & 0 & 0 & 0 & 0 & 0 & 0 & 0 & 0 & 0.724569199028533 Pσp_{0} Ω0ᶜ & 0 & 0 & 0 & 0 & 0 & 0 & 0 & 0 & 0 & -8.30224609375 & 0\\\\0 & 0 & 0 & 0 & 0 & 0 & 0 & 0 & 0 & 0 & 0 & 0 & 0 & 0 & 0 & 0 & 0 & 0 & 0 & 0.83666007442799 Pσp_{0} Ω0ᶜ & 0 & 0 & 0 & 0 & 0 & 0 & 0 & 0 & 0 & -12.4530029296875\\end{array}\\right]$"
      ],
      "text/plain": [
       "Matrix([\n",
       "[-251619072753.391,                 0,                 0,                 0,                 0,                 0,                 0,                 0,                 0,                 0,                 0,                 0,                 0,                          0,                          0,                          0,            0,                          0,                          0,                         0,                0,                0,                0,                         0,                         0,                         0,           0,                         0,                         0,                        0],\n",
       "[                0, -251619072753.291,                 0,                 0,                 0,                 0,                 0,                 0,                 0,                 0,                 0,                 0,                 0,                          0,                          0,                          0,            0,                          0,                          0,                         0,                0,                0,                0,                         0,                         0,                         0,           0,                         0,                         0,                        0],\n",
       "[                0,                 0, -251619072753.191,                 0,                 0,                 0,                 0,                 0,                 0,                 0,                 0,                 0,                 0,                          0,                          0,                          0,            0,                          0,                          0,                         0,                0,                0,                0,                         0,                         0,                         0,           0,                         0,                         0,                        0],\n",
       "[                0,                 0,                 0, -251618793033.017,                 0,                 0,                 0,                 0,                 0,                 0,                 0,                 0,                 0,                          0,                          0,                          0,            0,                          0,                          0,                         0,                0,                0,                0,                         0,                         0,                         0,           0,                         0,                         0,                        0],\n",
       "[                0,                 0,                 0,                 0, -251618793033.059,                 0,                 0,                 0,                 0,                 0,                 0,                 0,                 0,                          0,                          0,                          0,            0,                          0,                          0,                         0,                0,                0,                0,                         0,                         0,                         0,           0,                         0,                         0,                        0],\n",
       "[                0,                 0,                 0,                 0,                 0, -251618793033.101,                 0,                 0,                 0,                 0,                 0,                 0,                 0,                          0,                          0,                          0,            0,                          0,                          0,                         0,                0,                0,                0,                         0,                         0,                         0,           0,                         0,                         0,                        0],\n",
       "[                0,                 0,                 0,                 0,                 0,                 0, -251618793033.143,                 0,                 0,                 0,                 0,                 0,                 0,                          0,                          0,                          0,            0,                          0,                          0,                         0,                0,                0,                0,                         0,                         0,                         0,           0,                         0,                         0,                        0],\n",
       "[                0,                 0,                 0,                 0,                 0,                 0,                 0, -251618793033.185,                 0,                 0,                 0,                 0,                 0,                          0,                          0,                          0,            0,                          0,                          0,                         0,                0,                0,                0,                         0,                         0,                         0,           0,                         0,                         0,                        0],\n",
       "[                0,                 0,                 0,                 0,                 0,                 0,                 0,                 0, -251617041203.777,                 0,                 0,                 0,                 0,                          0,                          0,                          0,            0,                          0,                          0,                         0,                0,                0,                0,                         0,                         0,                         0,           0,                         0,                         0,                        0],\n",
       "[                0,                 0,                 0,                 0,                 0,                 0,                 0,                 0,                 0, -251617041203.771,                 0,                 0,                 0,                          0,                          0,                          0,            0,                          0,                          0,                         0,                0,                0,                0,                         0,                         0,                         0,           0,                         0,                         0,                        0],\n",
       "[                0,                 0,                 0,                 0,                 0,                 0,                 0,                 0,                 0,                 0, -251617041203.765,                 0,                 0,                          0,                          0,                          0,            0,                          0,                          0,                         0,                0,                0,                0,                         0,                         0,                         0,           0,                         0,                         0,                        0],\n",
       "[                0,                 0,                 0,                 0,                 0,                 0,                 0,                 0,                 0,                 0,                 0, -251617041203.759,                 0,                          0,                          0,                          0,            0,                          0,                          0,                         0,                0,                0,                0,                         0,                         0,                         0,           0,                         0,                         0,                        0],\n",
       "[                0,                 0,                 0,                 0,                 0,                 0,                 0,                 0,                 0,                 0,                 0,                 0, -251617041203.754,                          0,                          0,                          0,            0,                          0,                          0,                         0,                0,                0,                0,                         0,                         0,                         0,           0,                         0,                         0,                        0],\n",
       "[                0,                 0,                 0,                 0,                 0,                 0,                 0,                 0,                 0,                 0,                 0,                 0,                 0,  1.0*δ0 + 0.20611572265625,                          0,                          0,            0,                          0,                          0,                         0,                0,                0,                0, 0.158113859455661*Pσp0*Ω0,                         0,                         0,           0,                         0,                         0,                        0],\n",
       "[                0,                 0,                 0,                 0,                 0,                 0,                 0,                 0,                 0,                 0,                 0,                 0,                 0,                          0,   1.0*δ0 + 0.1373291015625,                          0,            0,                          0,                          0,                         0,                0,                0,                0,                         0, 0.273861376993014*Pσp0*Ω0,                         0,           0,                         0,                         0,                        0],\n",
       "[                0,                 0,                 0,                 0,                 0,                 0,                 0,                 0,                 0,                 0,                 0,                 0,                 0,                          0,                          0,   1.0*δ0 + 0.0684814453125,            0,                          0,                          0,                         0,                0,                0,                0,                         0,                         0, 0.387298533780276*Pσp0*Ω0,           0,                         0,                         0,                        0],\n",
       "[                0,                 0,                 0,                 0,                 0,                 0,                 0,                 0,                 0,                 0,                 0,                 0,                 0,                          0,                          0,                          0,       1.0*δ0,                          0,                          0,                         0,                0,                0,                0,                         0,                         0,                         0, 0.5*Pσp0*Ω0,                         0,                         0,                        0],\n",
       "[                0,                 0,                 0,                 0,                 0,                 0,                 0,                 0,                 0,                 0,                 0,                 0,                 0,                          0,                          0,                          0,            0,   1.0*δ0 - 0.0684814453125,                          0,                         0,                0,                0,                0,                         0,                         0,                         0,           0, 0.612372469074387*Pσp0*Ω0,                         0,                        0],\n",
       "[                0,                 0,                 0,                 0,                 0,                 0,                 0,                 0,                 0,                 0,                 0,                 0,                 0,                          0,                          0,                          0,            0,                          0,    1.0*δ0 - 0.137451171875,                         0,                0,                0,                0,                         0,                         0,                         0,           0,                         0, 0.724569199028533*Pσp0*Ω0,                        0],\n",
       "[                0,                 0,                 0,                 0,                 0,                 0,                 0,                 0,                 0,                 0,                 0,                 0,                 0,                          0,                          0,                          0,            0,                          0,                          0,   1.0*δ0 - 0.205810546875,                0,                0,                0,                         0,                         0,                         0,           0,                         0,                         0, 0.83666007442799*Pσp0*Ω0],\n",
       "[                0,                 0,                 0,                 0,                 0,                 0,                 0,                 0,                 0,                 0,                 0,                 0,                 0,                          0,                          0,                          0,            0,                          0,                          0,                         0, 837841504696.504,                0,                0,                         0,                         0,                         0,           0,                         0,                         0,                        0],\n",
       "[                0,                 0,                 0,                 0,                 0,                 0,                 0,                 0,                 0,                 0,                 0,                 0,                 0,                          0,                          0,                          0,            0,                          0,                          0,                         0,                0, 20.7574462890625,                0,                         0,                         0,                         0,           0,                         0,                         0,                        0],\n",
       "[                0,                 0,                 0,                 0,                 0,                 0,                 0,                 0,                 0,                 0,                 0,                 0,                 0,                          0,                          0,                          0,            0,                          0,                          0,                         0,                0,                0, 16.6053466796875,                         0,                         0,                         0,           0,                         0,                         0,                        0],\n",
       "[                0,                 0,                 0,                 0,                 0,                 0,                 0,                 0,                 0,                 0,                 0,                 0,                 0, 0.158113859455661*Pσp0*Ω0ᶜ,                          0,                          0,            0,                          0,                          0,                         0,                0,                0,                0,          12.4539184570313,                         0,                         0,           0,                         0,                         0,                        0],\n",
       "[                0,                 0,                 0,                 0,                 0,                 0,                 0,                 0,                 0,                 0,                 0,                 0,                 0,                          0, 0.273861376993014*Pσp0*Ω0ᶜ,                          0,            0,                          0,                          0,                         0,                0,                0,                0,                         0,           8.3033447265625,                         0,           0,                         0,                         0,                        0],\n",
       "[                0,                 0,                 0,                 0,                 0,                 0,                 0,                 0,                 0,                 0,                 0,                 0,                 0,                          0,                          0, 0.387298533780276*Pσp0*Ω0ᶜ,            0,                          0,                          0,                         0,                0,                0,                0,                         0,                         0,           4.1524658203125,           0,                         0,                         0,                        0],\n",
       "[                0,                 0,                 0,                 0,                 0,                 0,                 0,                 0,                 0,                 0,                 0,                 0,                 0,                          0,                          0,                          0, 0.5*Pσp0*Ω0ᶜ,                          0,                          0,                         0,                0,                0,                0,                         0,                         0,                         0,           0,                         0,                         0,                        0],\n",
       "[                0,                 0,                 0,                 0,                 0,                 0,                 0,                 0,                 0,                 0,                 0,                 0,                 0,                          0,                          0,                          0,            0, 0.612372469074387*Pσp0*Ω0ᶜ,                          0,                         0,                0,                0,                0,                         0,                         0,                         0,           0,         -4.15057373046875,                         0,                        0],\n",
       "[                0,                 0,                 0,                 0,                 0,                 0,                 0,                 0,                 0,                 0,                 0,                 0,                 0,                          0,                          0,                          0,            0,                          0, 0.724569199028533*Pσp0*Ω0ᶜ,                         0,                0,                0,                0,                         0,                         0,                         0,           0,                         0,            -8.30224609375,                        0],\n",
       "[                0,                 0,                 0,                 0,                 0,                 0,                 0,                 0,                 0,                 0,                 0,                 0,                 0,                          0,                          0,                          0,            0,                          0,                          0, 0.83666007442799*Pσp0*Ω0ᶜ,                0,                0,                0,                         0,                         0,                         0,           0,                         0,                         0,        -12.4530029296875]])"
      ]
     },
     "execution_count": 11,
     "metadata": {},
     "output_type": "execute_result"
    }
   ],
   "source": [
    "obe_system.H_symbolic"
   ]
  },
  {
   "cell_type": "code",
   "execution_count": null,
   "metadata": {},
   "outputs": [],
   "source": [
    "qn_select = states.QuantumSelector(J=2, F=3, electronic = states.ElectronicState.X)\n",
    "indices = qn_select.get_indices(obe_system.QN)\n",
    "ρ = np.zeros(obe_system.H_symbolic.shape, dtype = complex)\n",
    "for idx in indices:\n",
    "    ρ[idx,idx] = 1 / indices.size"
   ]
  },
  {
   "cell_type": "code",
   "execution_count": null,
   "metadata": {},
   "outputs": [],
   "source": [
    "problem = lindblad_julia.OBEProblem(odepars, ρ, tspan = (0,200e-6))\n",
    "config = lindblad_julia.OBEProblemConfig(saveat = 1e-6)"
   ]
  },
  {
   "cell_type": "code",
   "execution_count": null,
   "metadata": {},
   "outputs": [],
   "source": [
    "results = lindblad_julia.do_simulation_single(problem)"
   ]
  },
  {
   "cell_type": "code",
   "execution_count": null,
   "metadata": {},
   "outputs": [],
   "source": [
    "qn_select_excited = states.QuantumSelector(electronic=states.ElectronicState.B)\n",
    "indices_excited = qn_select_excited.get_indices(obe_system.QN)"
   ]
  },
  {
   "cell_type": "code",
   "execution_count": null,
   "metadata": {},
   "outputs": [
    {
     "name": "stdout",
     "output_type": "stream",
     "text": [
      "2.12 photons\n"
     ]
    },
    {
     "data": {
      "image/png": "[encoded data removed]",
      "text/plain": [
       "<Figure size 1000x600 with 1 Axes>"
      ]
     },
     "metadata": {},
     "output_type": "display_data"
    }
   ],
   "source": [
    "fig, ax = plt.subplots(figsize = (10,6)) \n",
    "ax.plot(results.t*odepars.vz, results.y.T, lw = 2)\n",
    "ax.set_xlabel('distance [m]')\n",
    "ax.set_ylabel('population')\n",
    "# ax.legend(fontsize = 14)\n",
    "ax.grid(True)\n",
    "\n",
    "nphotons = np.trapz(results.y[indices_excited], x = results.t).sum() * hamiltonian.Γ\n",
    "print(f\"{nphotons:.2f} photons\")"
   ]
  },
  {
   "cell_type": "code",
   "execution_count": null,
   "metadata": {},
   "outputs": [],
   "source": []
  }
 ],
 "metadata": {
  "kernelspec": {
   "display_name": "centrex-julia",
   "language": "python",
   "name": "python3"
  },
  "language_info": {
   "codemirror_mode": {
    "name": "ipython",
    "version": 3
   },
   "file_extension": ".py",
   "mimetype": "text/x-python",
   "name": "python",
   "nbconvert_exporter": "python",
   "pygments_lexer": "ipython3",
   "version": "3.10.10"
  },
  "orig_nbformat": 4,
  "vscode": {
   "interpreter": {
    "hash": "1cc0dc4b969b4b3a5cd772140c19aa99e110dc307fa9ecb5c6ac4ca3e9f79cbe"
   }
  }
 },
 "nbformat": 4,
 "nbformat_minor": 2
}
