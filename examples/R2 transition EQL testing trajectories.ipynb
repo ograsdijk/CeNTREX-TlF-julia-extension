{
 "cells": [
  {
   "cell_type": "code",
   "execution_count": 1,
   "metadata": {},
   "outputs": [],
   "source": [
    "from pathlib import Path\n",
    "import pickle\n",
    "\n",
    "import numpy as np\n",
    "from scipy import constants as cst\n",
    "\n",
    "import matplotlib.pyplot as plt\n",
    "import tqdm\n",
    "\n",
    "from centrex_tlf import states, hamiltonian, transitions, couplings, lindblad, utils\n",
    "from centrex_tlf_julia_extension import lindblad_julia\n"
   ]
  },
  {
   "cell_type": "code",
   "execution_count": 2,
   "metadata": {},
   "outputs": [],
   "source": [
    "plt.rcParams.update({\"font.size\": 14})"
   ]
  },
  {
   "cell_type": "code",
   "execution_count": 3,
   "metadata": {},
   "outputs": [],
   "source": [
    "cwd = Path().cwd()"
   ]
  },
  {
   "cell_type": "markdown",
   "metadata": {},
   "source": [
    "# Setting up the system"
   ]
  },
  {
   "cell_type": "code",
   "execution_count": 4,
   "metadata": {},
   "outputs": [],
   "source": [
    "trans = [\n",
    "    transitions.OpticalTransition(\n",
    "        transitions.OpticalTransitionType.R, J_ground=2, F1=7 / 2, F=4\n",
    "    )\n",
    "]\n",
    "\n",
    "polarizations = [[couplings.polarization_Z]]\n",
    "\n",
    "transition_selectors = couplings.generate_transition_selectors(\n",
    "    trans,\n",
    "    polarizations,\n",
    "    ground_mains=[\n",
    "        1\n",
    "        * states.CoupledBasisState(\n",
    "            J=2,\n",
    "            F=3,\n",
    "            F1=5 / 2,\n",
    "            mF=-1,\n",
    "            I1=1 / 2,\n",
    "            I2=1 / 2,\n",
    "            Ω=0,\n",
    "            P=+1,\n",
    "            electronic_state=states.ElectronicState.X,\n",
    "        )\n",
    "    ],\n",
    "    excited_mains=[\n",
    "        1\n",
    "        * states.CoupledBasisState(\n",
    "            J=3,\n",
    "            F=4,\n",
    "            F1=7 / 2,\n",
    "            mF=-1,\n",
    "            I1=1 / 2,\n",
    "            I2=1 / 2,\n",
    "            Ω=1,\n",
    "            P=-1,\n",
    "            electronic_state=states.ElectronicState.B,\n",
    "        )\n",
    "    ],\n",
    ")"
   ]
  },
  {
   "cell_type": "code",
   "execution_count": 5,
   "metadata": {},
   "outputs": [],
   "source": [
    "v_to_Γ = utils.detuning.velocity_to_detuning(1)\n",
    "\n",
    "odepars = lindblad_julia.odeParameters(\n",
    "    Ω0=\"phase_modulation(t, β, ωphase)*rabi_from_intensity(gaussian_2d_rotated(vz*t, y0+vy*t, peak_intensity, laser_center, 0.0, σz, σy, θ), main_coupling)\",\n",
    "    peak_intensity=1000.0,\n",
    "    δ0=f\"vx*{v_to_Γ}\",  # detuning of the laser [rad/s]\n",
    "    # laser phase modulation\n",
    "    ωphase=hamiltonian.Γ,  # laser phase modulation frequency [rad/s]\n",
    "    β=0,  # laser phase modulation depth [rad]\n",
    "    PZ0=1,\n",
    "    # molecules\n",
    "    z0=0,  # molecule start z position [m]\n",
    "    vz=184,  # longitudinal molecular velocity [m/s]\n",
    "    vx=0,\n",
    "    y0=0.0,\n",
    "    vy=0.0,\n",
    "    σz=4.53e-4,\n",
    "    σy=1.04e-3,\n",
    "    θ=-4.19,\n",
    "    laser_center=5e-3,\n",
    "    main_coupling=0.5,\n",
    ")\n"
   ]
  },
  {
   "cell_type": "code",
   "execution_count": 6,
   "metadata": {},
   "outputs": [
    {
     "name": "stderr",
     "output_type": "stream",
     "text": [
      "INFO:centrex_tlf.lindblad.utils_setup:generate_OBE_system: 1/5 -> Generating the reduced Hamiltonian\n"
     ]
    },
    {
     "name": "stderr",
     "output_type": "stream",
     "text": [
      "INFO:centrex_tlf.lindblad.utils_setup:generate_OBE_system: 2/5 -> Generating the couplings corresponding to the transitions\n",
      "INFO:centrex_tlf.lindblad.utils_setup:generate_OBE_system: 3/5 -> Generating the symbolic Hamiltonian\n",
      "INFO:centrex_tlf.lindblad.utils_setup:generate_OBE_system: 4/5 -> Generating the collapse matrices\n"
     ]
    },
    {
     "name": "stdout",
     "output_type": "stream",
     "text": [
      "Warning: Branching ratio sum > 1, difference = 2.22e-16\n"
     ]
    },
    {
     "name": "stderr",
     "output_type": "stream",
     "text": [
      "INFO:centrex_tlf.lindblad.utils_setup:generate_OBE_system: 5/5 -> Transforming the Hamiltonian and collapse matrices into a symbolic system of equations\n"
     ]
    },
    {
     "name": "stdout",
     "output_type": "stream",
     "text": [
      "CPU times: total: 1min 21s\n",
      "Wall time: 2min\n"
     ]
    }
   ],
   "source": [
    "%%time\n",
    "obe_system_original = lindblad.setup_OBE_system_transitions(\n",
    "    trans, transition_selectors, verbose=True, qn_compact=True, decay_channels=None\n",
    ")"
   ]
  },
  {
   "cell_type": "code",
   "execution_count": 10,
   "metadata": {},
   "outputs": [
    {
     "data": {
      "text/plain": [
       "[|X, J = 2, F₁ = 3/2, F = 1, mF = -1, I₁ = 1/2, I₂ = 1/2, P = +, Ω = 0>,\n",
       " |X, J = 2, F₁ = 3/2, F = 1, mF = 0, I₁ = 1/2, I₂ = 1/2, P = +, Ω = 0>,\n",
       " |X, J = 2, F₁ = 3/2, F = 1, mF = 1, I₁ = 1/2, I₂ = 1/2, P = +, Ω = 0>,\n",
       " |X, J = 2, F₁ = 3/2, F = 2, mF = -2, I₁ = 1/2, I₂ = 1/2, P = +, Ω = 0>,\n",
       " |X, J = 2, F₁ = 3/2, F = 2, mF = -1, I₁ = 1/2, I₂ = 1/2, P = +, Ω = 0>,\n",
       " |X, J = 2, F₁ = 3/2, F = 2, mF = 0, I₁ = 1/2, I₂ = 1/2, P = +, Ω = 0>,\n",
       " |X, J = 2, F₁ = 3/2, F = 2, mF = 1, I₁ = 1/2, I₂ = 1/2, P = +, Ω = 0>,\n",
       " |X, J = 2, F₁ = 3/2, F = 2, mF = 2, I₁ = 1/2, I₂ = 1/2, P = +, Ω = 0>,\n",
       " |X, J = 2, F₁ = 5/2, F = 2, mF = -2, I₁ = 1/2, I₂ = 1/2, P = +, Ω = 0>,\n",
       " |X, J = 2, F₁ = 5/2, F = 2, mF = -1, I₁ = 1/2, I₂ = 1/2, P = +, Ω = 0>,\n",
       " |X, J = 2, F₁ = 5/2, F = 2, mF = 0, I₁ = 1/2, I₂ = 1/2, P = +, Ω = 0>,\n",
       " |X, J = 2, F₁ = 5/2, F = 2, mF = 1, I₁ = 1/2, I₂ = 1/2, P = +, Ω = 0>,\n",
       " |X, J = 2, F₁ = 5/2, F = 2, mF = 2, I₁ = 1/2, I₂ = 1/2, P = +, Ω = 0>,\n",
       " |X, J = 2, F₁ = 5/2, F = 3, mF = -3, I₁ = 1/2, I₂ = 1/2, P = +, Ω = 0>,\n",
       " |X, J = 2, F₁ = 5/2, F = 3, mF = -2, I₁ = 1/2, I₂ = 1/2, P = +, Ω = 0>,\n",
       " |X, J = 2, F₁ = 5/2, F = 3, mF = -1, I₁ = 1/2, I₂ = 1/2, P = +, Ω = 0>,\n",
       " |X, J = 2, F₁ = 5/2, F = 3, mF = 0, I₁ = 1/2, I₂ = 1/2, P = +, Ω = 0>,\n",
       " |X, J = 2, F₁ = 5/2, F = 3, mF = 1, I₁ = 1/2, I₂ = 1/2, P = +, Ω = 0>,\n",
       " |X, J = 2, F₁ = 5/2, F = 3, mF = 2, I₁ = 1/2, I₂ = 1/2, P = +, Ω = 0>,\n",
       " |X, J = 2, F₁ = 5/2, F = 3, mF = 3, I₁ = 1/2, I₂ = 1/2, P = +, Ω = 0>,\n",
       " |X, J = 4, F₁ = None, F = None, mF = None, I₁ = 1/2, I₂ = 1/2, P = +, Ω = 0>,\n",
       " |B, J = 3, F₁ = 7/2, F = 4, mF = -4, I₁ = 1/2, I₂ = 1/2, P = -, Ω = 1>,\n",
       " |B, J = 3, F₁ = 7/2, F = 4, mF = -3, I₁ = 1/2, I₂ = 1/2, P = -, Ω = 1>,\n",
       " |B, J = 3, F₁ = 7/2, F = 4, mF = -2, I₁ = 1/2, I₂ = 1/2, P = -, Ω = 1>,\n",
       " |B, J = 3, F₁ = 7/2, F = 4, mF = -1, I₁ = 1/2, I₂ = 1/2, P = -, Ω = 1>,\n",
       " |B, J = 3, F₁ = 7/2, F = 4, mF = 0, I₁ = 1/2, I₂ = 1/2, P = -, Ω = 1>,\n",
       " |B, J = 3, F₁ = 7/2, F = 4, mF = 1, I₁ = 1/2, I₂ = 1/2, P = -, Ω = 1>,\n",
       " |B, J = 3, F₁ = 7/2, F = 4, mF = 2, I₁ = 1/2, I₂ = 1/2, P = -, Ω = 1>,\n",
       " |B, J = 3, F₁ = 7/2, F = 4, mF = 3, I₁ = 1/2, I₂ = 1/2, P = -, Ω = 1>,\n",
       " |B, J = 3, F₁ = 7/2, F = 4, mF = 4, I₁ = 1/2, I₂ = 1/2, P = -, Ω = 1>]"
      ]
     },
     "execution_count": 10,
     "metadata": {},
     "output_type": "execute_result"
    }
   ],
   "source": [
    "[QN.largest for QN in obe_system_original.QN]"
   ]
  },
  {
   "cell_type": "code",
   "execution_count": 11,
   "metadata": {},
   "outputs": [
    {
     "data": {
      "text/latex": [
       "$\\displaystyle \\left[\\begin{array}{cccccccccccccccccccccccccccccc}-251619072761.694 & 0 & 0 & 0 & 0 & 0 & 0 & 0 & 0 & 0 & 0 & 0 & 0 & 0 & 0 & 0 & 0 & 0 & 0 & 0 & 0 & 0 & 0 & 0 & 0 & 0 & 0 & 0 & 0 & 0\\\\0 & -251619072761.595 & 0 & 0 & 0 & 0 & 0 & 0 & 0 & 0 & 0 & 0 & 0 & 0 & 0 & 0 & 0 & 0 & 0 & 0 & 0 & 0 & 0 & 0 & 0 & 0 & 0 & 0 & 0 & 0\\\\0 & 0 & -251619072761.494 & 0 & 0 & 0 & 0 & 0 & 0 & 0 & 0 & 0 & 0 & 0 & 0 & 0 & 0 & 0 & 0 & 0 & 0 & 0 & 0 & 0 & 0 & 0 & 0 & 0 & 0 & 0\\\\0 & 0 & 0 & -251618793041.321 & 0 & 0 & 0 & 0 & 0 & 0 & 0 & 0 & 0 & 0 & 0 & 0 & 0 & 0 & 0 & 0 & 0 & 0 & 0 & 0 & 0 & 0 & 0 & 0 & 0 & 0\\\\0 & 0 & 0 & 0 & -251618793041.363 & 0 & 0 & 0 & 0 & 0 & 0 & 0 & 0 & 0 & 0 & 0 & 0 & 0 & 0 & 0 & 0 & 0 & 0 & 0 & 0 & 0 & 0 & 0 & 0 & 0\\\\0 & 0 & 0 & 0 & 0 & -251618793041.405 & 0 & 0 & 0 & 0 & 0 & 0 & 0 & 0 & 0 & 0 & 0 & 0 & 0 & 0 & 0 & 0 & 0 & 0 & 0 & 0 & 0 & 0 & 0 & 0\\\\0 & 0 & 0 & 0 & 0 & 0 & -251618793041.446 & 0 & 0 & 0 & 0 & 0 & 0 & 0 & 0 & 0 & 0 & 0 & 0 & 0 & 0 & 0 & 0 & 0 & 0 & 0 & 0 & 0 & 0 & 0\\\\0 & 0 & 0 & 0 & 0 & 0 & 0 & -251618793041.488 & 0 & 0 & 0 & 0 & 0 & 0 & 0 & 0 & 0 & 0 & 0 & 0 & 0 & 0 & 0 & 0 & 0 & 0 & 0 & 0 & 0 & 0\\\\0 & 0 & 0 & 0 & 0 & 0 & 0 & 0 & -251617041212.08 & 0 & 0 & 0 & 0 & 0 & 0 & 0 & 0 & 0 & 0 & 0 & 0 & 0 & 0 & 0 & 0 & 0 & 0 & 0 & 0 & 0\\\\0 & 0 & 0 & 0 & 0 & 0 & 0 & 0 & 0 & -251617041212.074 & 0 & 0 & 0 & 0 & 0 & 0 & 0 & 0 & 0 & 0 & 0 & 0 & 0 & 0 & 0 & 0 & 0 & 0 & 0 & 0\\\\0 & 0 & 0 & 0 & 0 & 0 & 0 & 0 & 0 & 0 & -251617041212.069 & 0 & 0 & 0 & 0 & 0 & 0 & 0 & 0 & 0 & 0 & 0 & 0 & 0 & 0 & 0 & 0 & 0 & 0 & 0\\\\0 & 0 & 0 & 0 & 0 & 0 & 0 & 0 & 0 & 0 & 0 & -251617041212.062 & 0 & 0 & 0 & 0 & 0 & 0 & 0 & 0 & 0 & 0 & 0 & 0 & 0 & 0 & 0 & 0 & 0 & 0\\\\0 & 0 & 0 & 0 & 0 & 0 & 0 & 0 & 0 & 0 & 0 & 0 & -251617041212.057 & 0 & 0 & 0 & 0 & 0 & 0 & 0 & 0 & 0 & 0 & 0 & 0 & 0 & 0 & 0 & 0 & 0\\\\0 & 0 & 0 & 0 & 0 & 0 & 0 & 0 & 0 & 0 & 0 & 0 & 0 & 1.0 δ_{0} + 0.137664794921875 & 0 & 0 & 0 & 0 & 0 & 0 & 0 & 0 & 0.341564799401621 PZ_{0} Ω_{0} & 0 & 0 & 0 & 0 & 0 & 0 & 0\\\\0 & 0 & 0 & 0 & 0 & 0 & 0 & 0 & 0 & 0 & 0 & 0 & 0 & 0 & 1.0 δ_{0} + 0.06884765625 & 0 & 0 & 0 & 0 & 0 & 0 & 0 & 0 & 0.447213526272073 PZ_{0} Ω_{0} & 0 & 0 & 0 & 0 & 0 & 0\\\\0 & 0 & 0 & 0 & 0 & 0 & 0 & 0 & 0 & 0 & 0 & 0 & 0 & 0 & 0 & 1.0 δ_{0} & 0 & 0 & 0 & 0 & 0 & 0 & 0 & 0 & 0.5 PZ_{0} Ω_{0} & 0 & 0 & 0 & 0 & 0\\\\0 & 0 & 0 & 0 & 0 & 0 & 0 & 0 & 0 & 0 & 0 & 0 & 0 & 0 & 0 & 0 & 1.0 δ_{0} - 0.068450927734375 & 0 & 0 & 0 & 0 & 0 & 0 & 0 & 0 & 0.516397514368429 PZ_{0} Ω_{0} & 0 & 0 & 0 & 0\\\\0 & 0 & 0 & 0 & 0 & 0 & 0 & 0 & 0 & 0 & 0 & 0 & 0 & 0 & 0 & 0 & 0 & 1.0 δ_{0} - 0.13690185546875 & 0 & 0 & 0 & 0 & 0 & 0 & 0 & 0 & 0.49999977150556 PZ_{0} Ω_{0} & 0 & 0 & 0\\\\0 & 0 & 0 & 0 & 0 & 0 & 0 & 0 & 0 & 0 & 0 & 0 & 0 & 0 & 0 & 0 & 0 & 0 & 1.0 δ_{0} - 0.20587158203125 & 0 & 0 & 0 & 0 & 0 & 0 & 0 & 0 & 0.447213588987242 PZ_{0} Ω_{0} & 0 & 0\\\\0 & 0 & 0 & 0 & 0 & 0 & 0 & 0 & 0 & 0 & 0 & 0 & 0 & 0 & 0 & 0 & 0 & 0 & 0 & 1.0 δ_{0} - 0.2742919921875 & 0 & 0 & 0 & 0 & 0 & 0 & 0 & 0 & 0.341564868985583 PZ_{0} Ω_{0} & 0\\\\0 & 0 & 0 & 0 & 0 & 0 & 0 & 0 & 0 & 0 & 0 & 0 & 0 & 0 & 0 & 0 & 0 & 0 & 0 & 0 & 334871346836.02 & 0 & 0 & 0 & 0 & 0 & 0 & 0 & 0 & 0\\\\0 & 0 & 0 & 0 & 0 & 0 & 0 & 0 & 0 & 0 & 0 & 0 & 0 & 0 & 0 & 0 & 0 & 0 & 0 & 0 & 0 & 12.4541015625 & 0 & 0 & 0 & 0 & 0 & 0 & 0 & 0\\\\0 & 0 & 0 & 0 & 0 & 0 & 0 & 0 & 0 & 0 & 0 & 0 & 0 & 0.341564799401621 PZ_{0} Ω0ᶜ & 0 & 0 & 0 & 0 & 0 & 0 & 0 & 0 & 8.302001953125 & 0 & 0 & 0 & 0 & 0 & 0 & 0\\\\0 & 0 & 0 & 0 & 0 & 0 & 0 & 0 & 0 & 0 & 0 & 0 & 0 & 0 & 0.447213526272073 PZ_{0} Ω0ᶜ & 0 & 0 & 0 & 0 & 0 & 0 & 0 & 0 & 4.15057373046875 & 0 & 0 & 0 & 0 & 0 & 0\\\\0 & 0 & 0 & 0 & 0 & 0 & 0 & 0 & 0 & 0 & 0 & 0 & 0 & 0 & 0 & 0.5 PZ_{0} Ω0ᶜ & 0 & 0 & 0 & 0 & 0 & 0 & 0 & 0 & 0 & 0 & 0 & 0 & 0 & 0\\\\0 & 0 & 0 & 0 & 0 & 0 & 0 & 0 & 0 & 0 & 0 & 0 & 0 & 0 & 0 & 0 & 0.516397514368429 PZ_{0} Ω0ᶜ & 0 & 0 & 0 & 0 & 0 & 0 & 0 & 0 & -4.15087890625 & 0 & 0 & 0 & 0\\\\0 & 0 & 0 & 0 & 0 & 0 & 0 & 0 & 0 & 0 & 0 & 0 & 0 & 0 & 0 & 0 & 0 & 0.49999977150556 PZ_{0} Ω0ᶜ & 0 & 0 & 0 & 0 & 0 & 0 & 0 & 0 & -8.3033447265625 & 0 & 0 & 0\\\\0 & 0 & 0 & 0 & 0 & 0 & 0 & 0 & 0 & 0 & 0 & 0 & 0 & 0 & 0 & 0 & 0 & 0 & 0.447213588987242 PZ_{0} Ω0ᶜ & 0 & 0 & 0 & 0 & 0 & 0 & 0 & 0 & -12.4539184570313 & 0 & 0\\\\0 & 0 & 0 & 0 & 0 & 0 & 0 & 0 & 0 & 0 & 0 & 0 & 0 & 0 & 0 & 0 & 0 & 0 & 0 & 0.341564868985583 PZ_{0} Ω0ᶜ & 0 & 0 & 0 & 0 & 0 & 0 & 0 & 0 & -16.6055908203125 & 0\\\\0 & 0 & 0 & 0 & 0 & 0 & 0 & 0 & 0 & 0 & 0 & 0 & 0 & 0 & 0 & 0 & 0 & 0 & 0 & 0 & 0 & 0 & 0 & 0 & 0 & 0 & 0 & 0 & 0 & -20.75634765625\\end{array}\\right]$"
      ],
      "text/plain": [
       "Matrix([\n",
       "[-251619072761.694,                 0,                 0,                 0,                 0,                 0,                 0,                 0,                0,                 0,                 0,                 0,                 0,                          0,                         0,           0,                          0,                         0,                         0,                         0,               0,             0,                        0,                        0,          0,                        0,                       0,                        0,                        0,               0],\n",
       "[                0, -251619072761.595,                 0,                 0,                 0,                 0,                 0,                 0,                0,                 0,                 0,                 0,                 0,                          0,                         0,           0,                          0,                         0,                         0,                         0,               0,             0,                        0,                        0,          0,                        0,                       0,                        0,                        0,               0],\n",
       "[                0,                 0, -251619072761.494,                 0,                 0,                 0,                 0,                 0,                0,                 0,                 0,                 0,                 0,                          0,                         0,           0,                          0,                         0,                         0,                         0,               0,             0,                        0,                        0,          0,                        0,                       0,                        0,                        0,               0],\n",
       "[                0,                 0,                 0, -251618793041.321,                 0,                 0,                 0,                 0,                0,                 0,                 0,                 0,                 0,                          0,                         0,           0,                          0,                         0,                         0,                         0,               0,             0,                        0,                        0,          0,                        0,                       0,                        0,                        0,               0],\n",
       "[                0,                 0,                 0,                 0, -251618793041.363,                 0,                 0,                 0,                0,                 0,                 0,                 0,                 0,                          0,                         0,           0,                          0,                         0,                         0,                         0,               0,             0,                        0,                        0,          0,                        0,                       0,                        0,                        0,               0],\n",
       "[                0,                 0,                 0,                 0,                 0, -251618793041.405,                 0,                 0,                0,                 0,                 0,                 0,                 0,                          0,                         0,           0,                          0,                         0,                         0,                         0,               0,             0,                        0,                        0,          0,                        0,                       0,                        0,                        0,               0],\n",
       "[                0,                 0,                 0,                 0,                 0,                 0, -251618793041.446,                 0,                0,                 0,                 0,                 0,                 0,                          0,                         0,           0,                          0,                         0,                         0,                         0,               0,             0,                        0,                        0,          0,                        0,                       0,                        0,                        0,               0],\n",
       "[                0,                 0,                 0,                 0,                 0,                 0,                 0, -251618793041.488,                0,                 0,                 0,                 0,                 0,                          0,                         0,           0,                          0,                         0,                         0,                         0,               0,             0,                        0,                        0,          0,                        0,                       0,                        0,                        0,               0],\n",
       "[                0,                 0,                 0,                 0,                 0,                 0,                 0,                 0, -251617041212.08,                 0,                 0,                 0,                 0,                          0,                         0,           0,                          0,                         0,                         0,                         0,               0,             0,                        0,                        0,          0,                        0,                       0,                        0,                        0,               0],\n",
       "[                0,                 0,                 0,                 0,                 0,                 0,                 0,                 0,                0, -251617041212.074,                 0,                 0,                 0,                          0,                         0,           0,                          0,                         0,                         0,                         0,               0,             0,                        0,                        0,          0,                        0,                       0,                        0,                        0,               0],\n",
       "[                0,                 0,                 0,                 0,                 0,                 0,                 0,                 0,                0,                 0, -251617041212.069,                 0,                 0,                          0,                         0,           0,                          0,                         0,                         0,                         0,               0,             0,                        0,                        0,          0,                        0,                       0,                        0,                        0,               0],\n",
       "[                0,                 0,                 0,                 0,                 0,                 0,                 0,                 0,                0,                 0,                 0, -251617041212.062,                 0,                          0,                         0,           0,                          0,                         0,                         0,                         0,               0,             0,                        0,                        0,          0,                        0,                       0,                        0,                        0,               0],\n",
       "[                0,                 0,                 0,                 0,                 0,                 0,                 0,                 0,                0,                 0,                 0,                 0, -251617041212.057,                          0,                         0,           0,                          0,                         0,                         0,                         0,               0,             0,                        0,                        0,          0,                        0,                       0,                        0,                        0,               0],\n",
       "[                0,                 0,                 0,                 0,                 0,                 0,                 0,                 0,                0,                 0,                 0,                 0,                 0, 1.0*δ0 + 0.137664794921875,                         0,           0,                          0,                         0,                         0,                         0,               0,             0, 0.341564799401621*PZ0*Ω0,                        0,          0,                        0,                       0,                        0,                        0,               0],\n",
       "[                0,                 0,                 0,                 0,                 0,                 0,                 0,                 0,                0,                 0,                 0,                 0,                 0,                          0,    1.0*δ0 + 0.06884765625,           0,                          0,                         0,                         0,                         0,               0,             0,                        0, 0.447213526272073*PZ0*Ω0,          0,                        0,                       0,                        0,                        0,               0],\n",
       "[                0,                 0,                 0,                 0,                 0,                 0,                 0,                 0,                0,                 0,                 0,                 0,                 0,                          0,                         0,      1.0*δ0,                          0,                         0,                         0,                         0,               0,             0,                        0,                        0, 0.5*PZ0*Ω0,                        0,                       0,                        0,                        0,               0],\n",
       "[                0,                 0,                 0,                 0,                 0,                 0,                 0,                 0,                0,                 0,                 0,                 0,                 0,                          0,                         0,           0, 1.0*δ0 - 0.068450927734375,                         0,                         0,                         0,               0,             0,                        0,                        0,          0, 0.516397514368429*PZ0*Ω0,                       0,                        0,                        0,               0],\n",
       "[                0,                 0,                 0,                 0,                 0,                 0,                 0,                 0,                0,                 0,                 0,                 0,                 0,                          0,                         0,           0,                          0, 1.0*δ0 - 0.13690185546875,                         0,                         0,               0,             0,                        0,                        0,          0,                        0, 0.49999977150556*PZ0*Ω0,                        0,                        0,               0],\n",
       "[                0,                 0,                 0,                 0,                 0,                 0,                 0,                 0,                0,                 0,                 0,                 0,                 0,                          0,                         0,           0,                          0,                         0, 1.0*δ0 - 0.20587158203125,                         0,               0,             0,                        0,                        0,          0,                        0,                       0, 0.447213588987242*PZ0*Ω0,                        0,               0],\n",
       "[                0,                 0,                 0,                 0,                 0,                 0,                 0,                 0,                0,                 0,                 0,                 0,                 0,                          0,                         0,           0,                          0,                         0,                         0,  1.0*δ0 - 0.2742919921875,               0,             0,                        0,                        0,          0,                        0,                       0,                        0, 0.341564868985583*PZ0*Ω0,               0],\n",
       "[                0,                 0,                 0,                 0,                 0,                 0,                 0,                 0,                0,                 0,                 0,                 0,                 0,                          0,                         0,           0,                          0,                         0,                         0,                         0, 334871346836.02,             0,                        0,                        0,          0,                        0,                       0,                        0,                        0,               0],\n",
       "[                0,                 0,                 0,                 0,                 0,                 0,                 0,                 0,                0,                 0,                 0,                 0,                 0,                          0,                         0,           0,                          0,                         0,                         0,                         0,               0, 12.4541015625,                        0,                        0,          0,                        0,                       0,                        0,                        0,               0],\n",
       "[                0,                 0,                 0,                 0,                 0,                 0,                 0,                 0,                0,                 0,                 0,                 0,                 0,  0.341564799401621*PZ0*Ω0ᶜ,                         0,           0,                          0,                         0,                         0,                         0,               0,             0,           8.302001953125,                        0,          0,                        0,                       0,                        0,                        0,               0],\n",
       "[                0,                 0,                 0,                 0,                 0,                 0,                 0,                 0,                0,                 0,                 0,                 0,                 0,                          0, 0.447213526272073*PZ0*Ω0ᶜ,           0,                          0,                         0,                         0,                         0,               0,             0,                        0,         4.15057373046875,          0,                        0,                       0,                        0,                        0,               0],\n",
       "[                0,                 0,                 0,                 0,                 0,                 0,                 0,                 0,                0,                 0,                 0,                 0,                 0,                          0,                         0, 0.5*PZ0*Ω0ᶜ,                          0,                         0,                         0,                         0,               0,             0,                        0,                        0,          0,                        0,                       0,                        0,                        0,               0],\n",
       "[                0,                 0,                 0,                 0,                 0,                 0,                 0,                 0,                0,                 0,                 0,                 0,                 0,                          0,                         0,           0,  0.516397514368429*PZ0*Ω0ᶜ,                         0,                         0,                         0,               0,             0,                        0,                        0,          0,           -4.15087890625,                       0,                        0,                        0,               0],\n",
       "[                0,                 0,                 0,                 0,                 0,                 0,                 0,                 0,                0,                 0,                 0,                 0,                 0,                          0,                         0,           0,                          0,  0.49999977150556*PZ0*Ω0ᶜ,                         0,                         0,               0,             0,                        0,                        0,          0,                        0,        -8.3033447265625,                        0,                        0,               0],\n",
       "[                0,                 0,                 0,                 0,                 0,                 0,                 0,                 0,                0,                 0,                 0,                 0,                 0,                          0,                         0,           0,                          0,                         0, 0.447213588987242*PZ0*Ω0ᶜ,                         0,               0,             0,                        0,                        0,          0,                        0,                       0,        -12.4539184570313,                        0,               0],\n",
       "[                0,                 0,                 0,                 0,                 0,                 0,                 0,                 0,                0,                 0,                 0,                 0,                 0,                          0,                         0,           0,                          0,                         0,                         0, 0.341564868985583*PZ0*Ω0ᶜ,               0,             0,                        0,                        0,          0,                        0,                       0,                        0,        -16.6055908203125,               0],\n",
       "[                0,                 0,                 0,                 0,                 0,                 0,                 0,                 0,                0,                 0,                 0,                 0,                 0,                          0,                         0,           0,                          0,                         0,                         0,                         0,               0,             0,                        0,                        0,          0,                        0,                       0,                        0,                        0, -20.75634765625]])"
      ]
     },
     "execution_count": 11,
     "metadata": {},
     "output_type": "execute_result"
    }
   ],
   "source": [
    "obe_system_original.H_symbolic"
   ]
  },
  {
   "cell_type": "code",
   "execution_count": 12,
   "metadata": {},
   "outputs": [],
   "source": [
    "from copy import deepcopy\n",
    "\n",
    "obe_system_python = deepcopy(obe_system_original)"
   ]
  },
  {
   "cell_type": "code",
   "execution_count": 15,
   "metadata": {},
   "outputs": [],
   "source": [
    "obe_system = lindblad_julia.setup_OBE_system_julia(\n",
    "    obe_system_python, transition_selectors, odepars\n",
    ")"
   ]
  },
  {
   "cell_type": "code",
   "execution_count": 16,
   "metadata": {},
   "outputs": [
    {
     "data": {
      "text/html": [
       "<div>\n",
       "<style scoped>\n",
       "    .dataframe tbody tr th:only-of-type {\n",
       "        vertical-align: middle;\n",
       "    }\n",
       "\n",
       "    .dataframe tbody tr th {\n",
       "        vertical-align: top;\n",
       "    }\n",
       "\n",
       "    .dataframe thead th {\n",
       "        text-align: right;\n",
       "    }\n",
       "</style>\n",
       "<table border=\"1\" class=\"dataframe\">\n",
       "  <thead>\n",
       "    <tr style=\"text-align: right;\">\n",
       "      <th></th>\n",
       "      <th>|B, J = 3, F₁ = 7/2, F = 4&gt;</th>\n",
       "    </tr>\n",
       "    <tr>\n",
       "      <th>states</th>\n",
       "      <th></th>\n",
       "    </tr>\n",
       "  </thead>\n",
       "  <tbody>\n",
       "    <tr>\n",
       "      <th>|X, J = 2&gt;</th>\n",
       "      <td>0.530151</td>\n",
       "    </tr>\n",
       "    <tr>\n",
       "      <th>|X, J = 4&gt;</th>\n",
       "      <td>0.469849</td>\n",
       "    </tr>\n",
       "  </tbody>\n",
       "</table>\n",
       "</div>"
      ],
      "text/plain": [
       "            |B, J = 3, F₁ = 7/2, F = 4>\n",
       "states                                 \n",
       "|X, J = 2>                     0.530151\n",
       "|X, J = 4>                     0.469849"
      ]
     },
     "execution_count": 16,
     "metadata": {},
     "output_type": "execute_result"
    }
   ],
   "source": [
    "couplings.generate_br_dataframe(obe_system.ground, obe_system.excited, group_ground=\"J\")"
   ]
  },
  {
   "cell_type": "markdown",
   "metadata": {},
   "source": [
    "# Single trajectory run"
   ]
  },
  {
   "cell_type": "code",
   "execution_count": 17,
   "metadata": {},
   "outputs": [],
   "source": [
    "ρ = utils.population.generate_uniform_population_states(\n",
    "    states.QuantumSelector(J=2, F=3, electronic=states.ElectronicState.X), obe_system.QN\n",
    ")"
   ]
  },
  {
   "cell_type": "code",
   "execution_count": 46,
   "metadata": {},
   "outputs": [],
   "source": [
    "power = 25e-3\n",
    "\n",
    "odepars.σz = 1.04e-3\n",
    "odepars.σy = 4.53e-4\n",
    "\n",
    "peak_intensity = power / (2 * np.pi * odepars.σz * odepars.σy)\n"
   ]
  },
  {
   "cell_type": "code",
   "execution_count": 112,
   "metadata": {},
   "outputs": [],
   "source": [
    "odepars.peak_intensity = peak_intensity\n",
    "odepars.main_coupling = obe_system.couplings[0].main_coupling.real\n",
    "odepars.β = 0\n",
    "odepars.σz = 1.04e-3\n",
    "odepars.σy = 4.53e-4\n",
    "odepars.laser_center = 10 * odepars.σz\n",
    "odepars.θ = 4.19\n",
    "\n",
    "problem = lindblad_julia.OBEProblem(\n",
    "    odepars, ρ, tspan=(0, (odepars.laser_center * 2) / odepars.vz)\n",
    ")\n",
    "config = lindblad_julia.OBEProblemConfig(saveat=1e-6)\n"
   ]
  },
  {
   "cell_type": "code",
   "execution_count": 113,
   "metadata": {},
   "outputs": [],
   "source": [
    "results = lindblad_julia.do_simulation_single(problem, config=config)"
   ]
  },
  {
   "cell_type": "code",
   "execution_count": 114,
   "metadata": {},
   "outputs": [],
   "source": [
    "qn_select_excited = states.QuantumSelector(electronic=states.ElectronicState.B)\n",
    "indices_excited = qn_select_excited.get_indices(obe_system.QN)"
   ]
  },
  {
   "cell_type": "code",
   "execution_count": 115,
   "metadata": {},
   "outputs": [
    {
     "name": "stdout",
     "output_type": "stream",
     "text": [
      "2.13 photons\n"
     ]
    },
    {
     "data": {
      "image/png": "[encoded data removed]",
      "text/plain": [
       "<Figure size 1000x600 with 1 Axes>"
      ]
     },
     "metadata": {},
     "output_type": "display_data"
    }
   ],
   "source": [
    "fig, ax = plt.subplots(figsize=(10, 6))\n",
    "ax.plot(results.t * odepars.vz, results.y.T, lw=2)\n",
    "ax.set_xlabel(\"distance [m]\")\n",
    "ax.set_ylabel(\"population\")\n",
    "\n",
    "lc = odepars.get_parameter_evolution(results.t, \"Ω0\")\n",
    "ax.plot(results.t * odepars.vz, lc / lc.max(), color=\"k\")\n",
    "ax.grid(True)\n",
    "\n",
    "nphotons_prerc = np.trapz(results.y[indices_excited], x=results.t).sum() * hamiltonian.Γ\n",
    "print(f\"{nphotons_prerc:.2f} photons\")"
   ]
  },
  {
   "cell_type": "code",
   "execution_count": 116,
   "metadata": {},
   "outputs": [
    {
     "name": "stdout",
     "output_type": "stream",
     "text": [
      "sigma = 5.12e-04\n"
     ]
    }
   ],
   "source": [
    "idx_max = np.argmax(lc)\n",
    "\n",
    "idx_left = np.argmin((lc[:idx_max] - lc.max() / 2) ** 2)\n",
    "idx_right = np.argmin((lc[idx_max:] - lc.max() / 2) ** 2) + idx_max\n",
    "\n",
    "fwhm = (results.t * odepars.vz)[idx_right] - (results.t * odepars.vz)[idx_left]\n",
    "sigma = fwhm / (2 * np.sqrt(2 * np.log(2)))\n",
    "sigma /= np.sqrt(2)  # rabi rate to intensity\n",
    "\n",
    "print(f\"sigma = {sigma:.2e}\")\n"
   ]
  },
  {
   "attachments": {},
   "cell_type": "markdown",
   "metadata": {},
   "source": [
    "# Scan power for various trajectories"
   ]
  },
  {
   "cell_type": "code",
   "execution_count": 117,
   "metadata": {},
   "outputs": [],
   "source": [
    "def get_diagonal_indices_flattened(size, states=None, mode=\"python\"):\n",
    "    if states is None:\n",
    "        indices = [i + size * i for i in range(size)]\n",
    "    else:\n",
    "        indices = [i + size * i for i in states]\n",
    "    if mode == \"julia\":\n",
    "        return [i + 1 for i in indices]\n",
    "    elif mode == \"python\":\n",
    "        return indices"
   ]
  },
  {
   "cell_type": "code",
   "execution_count": 118,
   "metadata": {},
   "outputs": [],
   "source": [
    "state_selector = states.QuantumSelector(electronic=states.ElectronicState.B)\n",
    "indices = state_selector.get_indices(obe_system.QN)\n",
    "save_idxs = get_diagonal_indices_flattened(len(obe_system.QN), indices, mode=\"julia\")"
   ]
  },
  {
   "cell_type": "code",
   "execution_count": 119,
   "metadata": {},
   "outputs": [],
   "source": [
    "with open(cwd / \"detection_1_nipple.pkl\", \"rb\") as f:\n",
    "    trajectories = pickle.load(f)\n",
    "\n",
    "data = dict([(v, None) for v in list(trajectories.values())[0].keys()])\n",
    "\n",
    "pop_mapping = {\"mF=0\": 3, \"mF=2\": 2, \"mF=3\": 2}\n"
   ]
  },
  {
   "attachments": {},
   "cell_type": "markdown",
   "metadata": {},
   "source": [
    "## Run simulation"
   ]
  },
  {
   "cell_type": "code",
   "execution_count": 122,
   "metadata": {},
   "outputs": [],
   "source": [
    "results_scan = dict(\n",
    "    [(v, dict([(mF, None) for mF in trajectories.keys()])) for v in data.keys()]\n",
    ")\n",
    "\n",
    "odepars.σz = 1.04e-3\n",
    "odepars.σy = 4.53e-4\n",
    "odepars.β = 0\n",
    "\n",
    "power = 1e-3\n",
    "peak_intensity = power / (2 * np.pi * odepars.σz * odepars.σy)\n",
    "\n",
    "odepars.peak_intensity = peak_intensity\n",
    "\n",
    "for voltage in list(data.keys())[::2]:\n",
    "    ensemble_config = lindblad_julia.OBEEnsembleProblemConfig(\n",
    "        method=\"Tsit5()\",\n",
    "        save_idxs=save_idxs,\n",
    "        saveat=1e-6,\n",
    "        abstol=1e-10,\n",
    "        reltol=1e-7,\n",
    "    )\n",
    "\n",
    "    problem = lindblad_julia.OBEProblem(odepars, ρ, tspan=(0, 100e-6))\n",
    "\n",
    "    for mF in trajectories:\n",
    "        ts = trajectories[mF][voltage][0]\n",
    "        xs = trajectories[mF][voltage][1]\n",
    "        vs = trajectories[mF][voltage][2]\n",
    "\n",
    "        dt = odepars.laser_center / vs[:, 2]\n",
    "\n",
    "        scan_values = [vs[:, 0], vs[:, 1], vs[:, 2], xs[:, 1] - vs[:, 1] * dt]\n",
    "        parameters = [\"vx\", \"vy\", \"vz\", \"y0\"]\n",
    "\n",
    "        output_func = lindblad_julia.setup_state_integral_calculation_state_idxs(\n",
    "            nphotons=True\n",
    "        )\n",
    "\n",
    "        ensemble_problem = lindblad_julia.OBEEnsembleProblem(\n",
    "            problem=problem,\n",
    "            parameters=parameters,\n",
    "            scan_values=scan_values,\n",
    "            output_func=output_func,\n",
    "            zipped=True,\n",
    "        )\n",
    "\n",
    "        lindblad_julia.setup_problem_parameter_scan(ensemble_problem)\n",
    "\n",
    "        lindblad_julia.solve_problem_parameter_scan(ensemble_problem, ensemble_config)\n",
    "\n",
    "        results = lindblad_julia.get_results_parameter_scan(ensemble_problem)\n",
    "        results_scan[voltage][mF] = results\n"
   ]
  },
  {
   "cell_type": "code",
   "execution_count": 123,
   "metadata": {},
   "outputs": [
    {
     "data": {
      "image/png": "[encoded data removed]",
      "text/plain": [
       "<Figure size 640x480 with 1 Axes>"
      ]
     },
     "metadata": {},
     "output_type": "display_data"
    }
   ],
   "source": [
    "signal = []\n",
    "voltages = []\n",
    "\n",
    "for v, res in results_scan.items():\n",
    "    for mF in res.keys():\n",
    "        if res[mF] is None:\n",
    "            break\n",
    "\n",
    "        if len(voltages) == 0:\n",
    "            voltages.append(v)\n",
    "        if voltages[-1] != v:\n",
    "            voltages.append(v)\n",
    "\n",
    "        signal.append(res[mF].results.sum() * pop_mapping[mF])\n",
    "\n",
    "voltages = np.array(voltages)\n",
    "signal = np.array(signal).reshape(-1, 3).sum(axis=1)\n",
    "\n",
    "fig, ax = plt.subplots()\n",
    "\n",
    "ax.plot(voltages / 1e3, signal / signal[0], \".\", color=\"k\")\n",
    "\n",
    "ax.set_xlabel(\"EQL voltage [kV]\")\n",
    "ax.set_ylabel(\"gain\")\n",
    "\n",
    "ax.grid()\n"
   ]
  },
  {
   "cell_type": "code",
   "execution_count": null,
   "metadata": {},
   "outputs": [],
   "source": [
    "results_scan = dict(\n",
    "    [(v, dict([(mF, None) for mF in trajectories.keys()])) for v in data.keys()]\n",
    ")\n",
    "\n",
    "power = 30e-3\n",
    "peak_intensity = power / (2 * np.pi * odepars.σz * odepars.σy)\n",
    "\n",
    "odepars.peak_intensity = peak_intensity\n",
    "odepars.β = 4\n",
    "\n",
    "for voltage in list(data.keys())[::2]:\n",
    "    ensemble_config = lindblad_julia.OBEEnsembleProblemConfig(\n",
    "        method=\"Tsit5()\",\n",
    "        save_idxs=save_idxs,\n",
    "        saveat=1e-6,\n",
    "        abstol=1e-10,\n",
    "        reltol=1e-7,\n",
    "    )\n",
    "\n",
    "    problem = lindblad_julia.OBEProblem(odepars, ρ, tspan=(0, 50e-6))\n",
    "\n",
    "    for mF in trajectories:\n",
    "        ts = trajectories[mF][voltage][0]\n",
    "        xs = trajectories[mF][voltage][1]\n",
    "        vs = trajectories[mF][voltage][2]\n",
    "\n",
    "        dt = odepars.laser_center / vs[:, 2]\n",
    "\n",
    "        scan_values = [vs[:, 0], vs[:, 1], vs[:, 2], xs[:, 1] - vs[:, 1] * dt]\n",
    "        parameters = [\"vx\", \"vy\", \"vz\", \"y0\"]\n",
    "\n",
    "        output_func = lindblad_julia.setup_state_integral_calculation_state_idxs(\n",
    "            nphotons=True\n",
    "        )\n",
    "\n",
    "        ensemble_problem = lindblad_julia.OBEEnsembleProblem(\n",
    "            problem=problem,\n",
    "            parameters=parameters,\n",
    "            scan_values=scan_values,\n",
    "            output_func=output_func,\n",
    "            zipped=True,\n",
    "        )\n",
    "\n",
    "        lindblad_julia.setup_problem_parameter_scan(ensemble_problem)\n",
    "\n",
    "        lindblad_julia.solve_problem_parameter_scan(ensemble_problem, ensemble_config)\n",
    "\n",
    "        results = lindblad_julia.get_results_parameter_scan(ensemble_problem)\n",
    "        results_scan[voltage][mF] = results\n"
   ]
  },
  {
   "cell_type": "code",
   "execution_count": null,
   "metadata": {},
   "outputs": [
    {
     "data": {
      "image/png": "[encoded data removed]",
      "text/plain": [
       "<Figure size 640x480 with 1 Axes>"
      ]
     },
     "metadata": {},
     "output_type": "display_data"
    }
   ],
   "source": [
    "signal = []\n",
    "voltages = []\n",
    "\n",
    "for v, res in results_scan.items():\n",
    "    for mF in res.keys():\n",
    "        if res[mF] is None:\n",
    "            break\n",
    "\n",
    "        if len(voltages) == 0:\n",
    "            voltages.append(v)\n",
    "        if voltages[-1] != v:\n",
    "            voltages.append(v)\n",
    "\n",
    "        signal.append(res[mF].results.sum() * pop_mapping[mF])\n",
    "\n",
    "voltages = np.array(voltages)\n",
    "signal = np.array(signal).reshape(-1, 3).sum(axis=1)\n",
    "\n",
    "fig, ax = plt.subplots()\n",
    "\n",
    "ax.plot(voltages / 1e3, signal / signal[0], \".\", color=\"k\")\n",
    "\n",
    "ax.set_xlabel(\"EQL voltage [kV]\")\n",
    "ax.set_ylabel(\"gain\")\n",
    "\n",
    "ax.grid()\n"
   ]
  },
  {
   "cell_type": "code",
   "execution_count": null,
   "metadata": {},
   "outputs": [
    {
     "data": {
      "text/plain": [
       "1193.6620731892147"
      ]
     },
     "execution_count": 352,
     "metadata": {},
     "output_type": "execute_result"
    }
   ],
   "source": [
    "fwhm = 2 * np.sqrt(2 * np.log(2)) * odepars.σz\n",
    "waist = np.sqrt(2) * fwhm / (2 * np.sqrt(np.log(2)))\n",
    "\n",
    "peak_intensity = 2 * power / (np.pi * waist**2)\n",
    "\n",
    "peak_intensity\n"
   ]
  }
 ],
 "metadata": {
  "kernelspec": {
   "display_name": "centrex-julia",
   "language": "python",
   "name": "python3"
  },
  "language_info": {
   "codemirror_mode": {
    "name": "ipython",
    "version": 3
   },
   "file_extension": ".py",
   "mimetype": "text/x-python",
   "name": "python",
   "nbconvert_exporter": "python",
   "pygments_lexer": "ipython3",
   "version": "3.9.18"
  },
  "orig_nbformat": 4,
  "vscode": {
   "interpreter": {
    "hash": "1cc0dc4b969b4b3a5cd772140c19aa99e110dc307fa9ecb5c6ac4ca3e9f79cbe"
   }
  }
 },
 "nbformat": 4,
 "nbformat_minor": 2
}
