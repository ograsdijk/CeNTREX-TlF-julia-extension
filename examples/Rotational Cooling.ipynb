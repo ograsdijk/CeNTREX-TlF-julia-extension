{
 "cells": [
  {
   "cell_type": "code",
   "execution_count": 1,
   "metadata": {},
   "outputs": [],
   "source": [
    "import numpy as np\n",
    "from scipy import constants as cst\n",
    "\n",
    "import matplotlib.pyplot as plt\n",
    "import tqdm\n",
    "\n",
    "from centrex_tlf import states, hamiltonian, transitions, couplings, lindblad, utils\n",
    "from centrex_tlf_julia_extension import lindblad_julia"
   ]
  },
  {
   "cell_type": "code",
   "execution_count": 2,
   "metadata": {},
   "outputs": [],
   "source": [
    "plt.rcParams.update({\"font.size\": 15})"
   ]
  },
  {
   "cell_type": "code",
   "execution_count": 3,
   "metadata": {},
   "outputs": [],
   "source": [
    "trans = [\n",
    "    transitions.OpticalTransition(\n",
    "        transitions.OpticalTransitionType.P, J_ground=2, F1=3 / 2, F=1\n",
    "    ),\n",
    "    transitions.MicrowaveTransition(\n",
    "        J_ground=1,\n",
    "        J_excited=2,\n",
    "        electronic_ground=states.ElectronicState.X,\n",
    "        electronic_excited=states.ElectronicState.X,\n",
    "    ),\n",
    "    transitions.MicrowaveTransition(\n",
    "        J_ground=2,\n",
    "        J_excited=3,\n",
    "        electronic_ground=states.ElectronicState.X,\n",
    "        electronic_excited=states.ElectronicState.X,\n",
    "    ),\n",
    "]\n",
    "\n",
    "polarizations = [\n",
    "    [couplings.polarization_Z],\n",
    "    [couplings.polarization_X, couplings.polarization_Y],\n",
    "    [couplings.polarization_X, couplings.polarization_Y],\n",
    "]\n",
    "\n",
    "transition_selectors = couplings.generate_transition_selectors(\n",
    "    trans,\n",
    "    polarizations,\n",
    ")"
   ]
  },
  {
   "cell_type": "code",
   "execution_count": 4,
   "metadata": {},
   "outputs": [],
   "source": [
    "v_to_Γ = utils.detuning.velocity_to_detuning(1)\n",
    "v_to_Γ_μ = 0\n",
    "\n",
    "odepars = lindblad_julia.odeParameters(\n",
    "    Ω0=\"Ωl0 * phase_modulation(t, β, ωphase)\",\n",
    "    Ωl0=1 * hamiltonian.Γ,  # Rabi frequency of the laser [rad/s]\n",
    "    δ0=f\"vx*{v_to_Γ}\",  # detuning of the laser [rad/s]\n",
    "    # laser phase modulation\n",
    "    ωphase=hamiltonian.Γ,  # laser phase modulation frequency [rad/s]\n",
    "    β=0,  # laser phase modulation depth [rad]\n",
    "    PZ0=1,\n",
    "    # J=1 -> J=2 microwaves\n",
    "    Ω1=1 * hamiltonian.Γ,\n",
    "    δ1=f\"vx*{v_to_Γ_μ}\",\n",
    "    P1=\"sin(ω1*t + φ1)\",\n",
    "    PX1=\"P1>0\",\n",
    "    PY1=\"P1<=0\",\n",
    "    ω1=2 * np.pi * 1.56e6,  # polarization switching frequency [rad/s]\n",
    "    φ1=0.0,  # polarization switching phase [rad]\n",
    "    # J=2 -> J=3 microwaves\n",
    "    Ω2=1 * hamiltonian.Γ,\n",
    "    δ2=f\"vx*{v_to_Γ_μ}\",\n",
    "    P2=\"sin(ω2*t + φ2)\",\n",
    "    PX2=\"P2>0\",\n",
    "    PY2=\"P2<=0\",\n",
    "    ω2=2 * np.pi * 1.56e6,  # polarization switching frequency [rad/s]\n",
    "    φ2=0.0,  # polarization switching phase [rad]\n",
    "    # molecules\n",
    "    z0=0,  # molecule start z position [m]\n",
    "    vz=184,  # longitudinal molecular velocity [m/s]\n",
    "    vx=0,\n",
    ")"
   ]
  },
  {
   "cell_type": "code",
   "execution_count": 5,
   "metadata": {},
   "outputs": [
    {
     "name": "stderr",
     "output_type": "stream",
     "text": [
      "INFO:centrex_tlf.lindblad.utils_setup:generate_OBE_system: 1/5 -> Generating the reduced Hamiltonian\n",
      "INFO:centrex_tlf.lindblad.utils_setup:generate_OBE_system: 2/5 -> Generating the couplings corresponding to the transitions\n",
      "INFO:centrex_tlf.lindblad.utils_setup:generate_OBE_system: 3/5 -> Generating the symbolic Hamiltonian\n",
      "INFO:centrex_tlf.lindblad.utils_setup:generate_OBE_system: 4/5 -> Generating the collapse matrices\n"
     ]
    },
    {
     "name": "stdout",
     "output_type": "stream",
     "text": [
      "Warning: Branching ratio sum > 1, difference = 2.22e-16\n"
     ]
    },
    {
     "name": "stderr",
     "output_type": "stream",
     "text": [
      "INFO:centrex_tlf.lindblad.utils_setup:generate_OBE_system: 5/5 -> Transforming the Hamiltonian and collapse matrices into a symbolic system of equations\n"
     ]
    },
    {
     "name": "stdout",
     "output_type": "stream",
     "text": [
      "CPU times: total: 3min 1s\n",
      "Wall time: 3min 9s\n"
     ]
    }
   ],
   "source": [
    "obe_system = lindblad.setup_OBE_system_transitions(\n",
    "    trans, transition_selectors, verbose=True, qn_compact=False, decay_channels=None\n",
    ")"
   ]
  },
  {
   "cell_type": "code",
   "execution_count": 6,
   "metadata": {},
   "outputs": [],
   "source": [
    "obe_system = lindblad_julia.setup_OBE_system_julia(\n",
    "    obe_system, transition_selectors, odepars\n",
    ")"
   ]
  },
  {
   "cell_type": "code",
   "execution_count": 7,
   "metadata": {},
   "outputs": [
    {
     "data": {
      "text/html": [
       "<div>\n",
       "<style scoped>\n",
       "    .dataframe tbody tr th:only-of-type {\n",
       "        vertical-align: middle;\n",
       "    }\n",
       "\n",
       "    .dataframe tbody tr th {\n",
       "        vertical-align: top;\n",
       "    }\n",
       "\n",
       "    .dataframe thead th {\n",
       "        text-align: right;\n",
       "    }\n",
       "</style>\n",
       "<table border=\"1\" class=\"dataframe\">\n",
       "  <thead>\n",
       "    <tr style=\"text-align: right;\">\n",
       "      <th></th>\n",
       "      <th>|B, J = 1, F₁ = 3/2, F = 1&gt;</th>\n",
       "    </tr>\n",
       "    <tr>\n",
       "      <th>states</th>\n",
       "      <th></th>\n",
       "    </tr>\n",
       "  </thead>\n",
       "  <tbody>\n",
       "    <tr>\n",
       "      <th>|X, J = 0&gt;</th>\n",
       "      <td>0.484129</td>\n",
       "    </tr>\n",
       "    <tr>\n",
       "      <th>|X, J = 2&gt;</th>\n",
       "      <td>0.515871</td>\n",
       "    </tr>\n",
       "  </tbody>\n",
       "</table>\n",
       "</div>"
      ],
      "text/plain": [
       "            |B, J = 1, F₁ = 3/2, F = 1>\n",
       "states                                 \n",
       "|X, J = 0>                     0.484129\n",
       "|X, J = 2>                     0.515871"
      ]
     },
     "execution_count": 7,
     "metadata": {},
     "output_type": "execute_result"
    }
   ],
   "source": [
    "couplings.generate_br_dataframe(obe_system.ground, obe_system.excited, group_ground=\"J\")"
   ]
  },
  {
   "cell_type": "code",
   "execution_count": 8,
   "metadata": {},
   "outputs": [
    {
     "data": {
      "text/html": [
       "<div>\n",
       "<style scoped>\n",
       "    .dataframe tbody tr th:only-of-type {\n",
       "        vertical-align: middle;\n",
       "    }\n",
       "\n",
       "    .dataframe tbody tr th {\n",
       "        vertical-align: top;\n",
       "    }\n",
       "\n",
       "    .dataframe thead th {\n",
       "        text-align: right;\n",
       "    }\n",
       "</style>\n",
       "<table border=\"1\" class=\"dataframe\">\n",
       "  <thead>\n",
       "    <tr style=\"text-align: right;\">\n",
       "      <th></th>\n",
       "      <th>|B, J = 1, F₁ = 3/2, F = 1&gt;</th>\n",
       "    </tr>\n",
       "    <tr>\n",
       "      <th>states</th>\n",
       "      <th></th>\n",
       "    </tr>\n",
       "  </thead>\n",
       "  <tbody>\n",
       "    <tr>\n",
       "      <th>|X, J = 0, F₁ = 1/2, F = 0&gt;</th>\n",
       "      <td>0.336756</td>\n",
       "    </tr>\n",
       "    <tr>\n",
       "      <th>|X, J = 0, F₁ = 1/2, F = 1&gt;</th>\n",
       "      <td>0.147373</td>\n",
       "    </tr>\n",
       "    <tr>\n",
       "      <th>|X, J = 2, F₁ = 3/2, F = 1&gt;</th>\n",
       "      <td>0.100763</td>\n",
       "    </tr>\n",
       "    <tr>\n",
       "      <th>|X, J = 2, F₁ = 3/2, F = 2&gt;</th>\n",
       "      <td>0.026135</td>\n",
       "    </tr>\n",
       "    <tr>\n",
       "      <th>|X, J = 2, F₁ = 5/2, F = 2&gt;</th>\n",
       "      <td>0.388973</td>\n",
       "    </tr>\n",
       "  </tbody>\n",
       "</table>\n",
       "</div>"
      ],
      "text/plain": [
       "                             |B, J = 1, F₁ = 3/2, F = 1>\n",
       "states                                                  \n",
       "|X, J = 0, F₁ = 1/2, F = 0>                     0.336756\n",
       "|X, J = 0, F₁ = 1/2, F = 1>                     0.147373\n",
       "|X, J = 2, F₁ = 3/2, F = 1>                     0.100763\n",
       "|X, J = 2, F₁ = 3/2, F = 2>                     0.026135\n",
       "|X, J = 2, F₁ = 5/2, F = 2>                     0.388973"
      ]
     },
     "execution_count": 8,
     "metadata": {},
     "output_type": "execute_result"
    }
   ],
   "source": [
    "couplings.generate_br_dataframe(\n",
    "    obe_system.ground, obe_system.excited, group_ground=\"mF\"\n",
    ")"
   ]
  },
  {
   "cell_type": "code",
   "execution_count": 47,
   "metadata": {},
   "outputs": [],
   "source": [
    "from typing import Union, Sequence\n",
    "import numpy.typing as npt\n",
    "from centrex_tlf.utils.population import thermal_population, J_levels\n",
    "\n",
    "\n",
    "def generate_thermal_population_states(\n",
    "    temperature: float,\n",
    "    QN: Sequence[states.State],\n",
    ") -> npt.NDArray[np.complex_]:\n",
    "    levels = len(QN)\n",
    "    ρ = np.zeros([levels, levels], dtype=complex)\n",
    "\n",
    "    assert isinstance(QN[0], states.State), \"no State objects supplies\"\n",
    "\n",
    "    j_levels = np.unique([qn.largest.J for qn in QN])\n",
    "\n",
    "    # get the relative thermal population fractions of the ground state\n",
    "    population = dict(\n",
    "        [(j, p) for j, p in zip(j_levels, thermal_population(j_levels, temperature))]\n",
    "    )\n",
    "\n",
    "    # get quantum numbers of the ground state\n",
    "    quantum_numbers = [\n",
    "        (qn.largest.J, qn.largest.F1, qn.largest.F, qn.largest.mF)\n",
    "        for qn in QN\n",
    "        if qn.largest.electronic_state == states.ElectronicState.X\n",
    "    ]\n",
    "\n",
    "    assert len(np.unique(quantum_numbers, axis=0)) == len(\n",
    "        quantum_numbers\n",
    "    ), \"duplicate quantum numbers\"\n",
    "\n",
    "    for idx, qn in enumerate(QN):\n",
    "        if qn.largest.F is None:\n",
    "            ρ[idx, idx] = population[qn.largest.J]\n",
    "        else:\n",
    "            ρ[idx,idx] = population[qn.largest.J] / J_levels(qn.largest.J)\n",
    "\n",
    "    return ρ"
   ]
  },
  {
   "cell_type": "code",
   "execution_count": 52,
   "metadata": {},
   "outputs": [],
   "source": [
    "ρ = generate_thermal_population_states(\n",
    "    temperature = 6.3,\n",
    "    QN = obe_system.ground,\n",
    ")\n",
    "ρ /= np.trace(ρ)"
   ]
  },
  {
   "cell_type": "code",
   "execution_count": 57,
   "metadata": {},
   "outputs": [],
   "source": [
    "power = 85e-3 # * 11 / 2  # 11 passes assume zero intensity left after 11 passes\n",
    "intensity = power / (25.4e-3 * 25.4e-3)\n",
    "rabi = utils.rabi.intensity_to_rabi(\n",
    "    intensity, obe_system.couplings[0].main_coupling, D=2.6675506e-30\n",
    ").real\n",
    "\n",
    "rabi_microwave = utils.rabi.power_to_rabi_gaussian_beam_microwave(\n",
    "    power = 200e-3, coupling = obe_system.couplings[1].main_coupling, sigma_x = 25.4e-3, sigma_y=25.4e-3\n",
    ").real"
   ]
  },
  {
   "cell_type": "code",
   "execution_count": 58,
   "metadata": {},
   "outputs": [],
   "source": [
    "odepars.Ωl0 = rabi\n",
    "\n",
    "problem = lindblad_julia.OBEProblem(odepars, ρ, tspan=(0, 25.4e-3 * 1.5 / odepars.vz))\n",
    "config = lindblad_julia.OBEProblemConfig(saveat=1e-6)"
   ]
  },
  {
   "cell_type": "code",
   "execution_count": 59,
   "metadata": {},
   "outputs": [
    {
     "ename": "",
     "evalue": "",
     "output_type": "error",
     "traceback": [
      "\u001b[1;31mThe Kernel crashed while executing code in the the current cell or a previous cell. Please review the code in the cell(s) to identify a possible cause of the failure. Click <a href='https://aka.ms/vscodeJupyterKernelCrash'>here</a> for more info. View Jupyter <a href='command:jupyter.viewOutput'>log</a> for further details."
     ]
    }
   ],
   "source": [
    "results = lindblad_julia.do_simulation_single(problem, config=config)"
   ]
  },
  {
   "cell_type": "code",
   "execution_count": null,
   "metadata": {},
   "outputs": [],
   "source": [
    "qn_select_excited = states.QuantumSelector(electronic=states.ElectronicState.B)\n",
    "indices_excited = qn_select_excited.get_indices(obe_system.QN)"
   ]
  },
  {
   "cell_type": "code",
   "execution_count": null,
   "metadata": {},
   "outputs": [],
   "source": [
    "fig, ax = plt.subplots(figsize=(10, 6))\n",
    "ax.plot(results.t * odepars.vz, results.y.T, lw=2)\n",
    "ax.set_xlabel(\"distance [m]\")\n",
    "ax.set_ylabel(\"population\")\n",
    "# ax.legend(fontsize = 14)\n",
    "ax.grid(True)\n",
    "\n",
    "nphotons = np.trapz(results.y[indices_excited], x=results.t).sum() * hamiltonian.Γ\n",
    "print(f\"{nphotons:.2f} photons\")\n",
    "print(f\"gain = {results.y[:4,-1].sum()/results.y[:4,0].sum()}\")\n"
   ]
  }
 ],
 "metadata": {
  "kernelspec": {
   "display_name": "centrex-tlf",
   "language": "python",
   "name": "python3"
  },
  "language_info": {
   "codemirror_mode": {
    "name": "ipython",
    "version": 3
   },
   "file_extension": ".py",
   "mimetype": "text/x-python",
   "name": "python",
   "nbconvert_exporter": "python",
   "pygments_lexer": "ipython3",
   "version": "3.9.18"
  },
  "orig_nbformat": 4
 },
 "nbformat": 4,
 "nbformat_minor": 2
}
